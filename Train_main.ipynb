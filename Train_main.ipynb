{
 "cells": [
  {
   "cell_type": "markdown",
   "metadata": {},
   "source": [
    "Import libraries"
   ]
  },
  {
   "cell_type": "code",
   "execution_count": 1,
   "metadata": {},
   "outputs": [],
   "source": [
    "import numpy as np\n",
    "from sklearn.preprocessing import StandardScaler\n",
    "from sklearn.model_selection import train_test_split\n",
    "from sklearn.metrics import accuracy_score\n",
    "from sklearn.datasets import fetch_openml\n",
    "from feedforwardprop import forward_propagation, initialize_parameters\n",
    "from backforwardprop import train"
   ]
  },
  {
   "cell_type": "markdown",
   "metadata": {},
   "source": [
    "Load subset of the data\n"
   ]
  },
  {
   "cell_type": "code",
   "execution_count": 2,
   "metadata": {},
   "outputs": [
    {
     "data": {
      "text/plain": [
       "(21770, 784)"
      ]
     },
     "metadata": {},
     "output_type": "display_data"
    },
    {
     "data": {
      "text/plain": [
       "(21770,)"
      ]
     },
     "metadata": {},
     "output_type": "display_data"
    }
   ],
   "source": [
    "# Load MNIST dataset (multi class but from 0s upto 2s only)\n",
    "X, y = fetch_openml('mnist_784', version=1, return_X_y=True, as_frame=False)\n",
    "X = X[(y == '0') | (y == '1')  | (y == '2')]  # Filter for 0s upto 2s\n",
    "y = y[(y == '0') | (y == '1') | (y == '2')].astype(int)  # Convert to 0, 1, 2\n",
    " \n",
    "display(X.shape, y.shape)"
   ]
  },
  {
   "cell_type": "markdown",
   "metadata": {},
   "source": [
    "preprocess and define network architecture"
   ]
  },
  {
   "cell_type": "code",
   "execution_count": 3,
   "metadata": {},
   "outputs": [],
   "source": [
    "X_scaled = StandardScaler().fit_transform(X)\n",
    "X_train, X_test, y_train, y_test = train_test_split(X_scaled, y, test_size=0.2, random_state=42)\n",
    "\n",
    "# Network architecture\n",
    "input_size = X_train.shape[1]\n",
    "hidden1_size = 128\n",
    "hidden2_size = 64\n",
    "hidden3_size = 32\n",
    "output_size = 3 # number of classes"
   ]
  },
  {
   "cell_type": "markdown",
   "metadata": {},
   "source": [
    "NN without backprop"
   ]
  },
  {
   "cell_type": "code",
   "execution_count": 4,
   "metadata": {},
   "outputs": [
    {
     "name": "stdout",
     "output_type": "stream",
     "text": [
      "Test Accuracy (Without Backpropagation): 31.05%\n"
     ]
    }
   ],
   "source": [
    "# Without Backpropagation\n",
    "W1_no_bp, b1_no_bp, W2_no_bp, b2_no_bp, W3_no_bp, b3_no_bp, W4_no_bp, b4_no_bp = initialize_parameters(\n",
    "    input_size, hidden1_size, hidden2_size, hidden3_size, output_size\n",
    ")\n",
    "\n",
    "# Just forward pass without backpropagation\n",
    "_, _, _, _, _, _, _, test_output_no_bp = forward_propagation(\n",
    "    X_test, W1_no_bp, b1_no_bp, W2_no_bp, b2_no_bp, W3_no_bp, b3_no_bp, W4_no_bp, b4_no_bp\n",
    ")\n",
    "test_predictions_no_bp = np.argmax(test_output_no_bp, axis=1)\n",
    "accuracy_no_bp = accuracy_score(y_test, test_predictions_no_bp)\n",
    "print(f\"Test Accuracy (Without Backpropagation): {accuracy_no_bp * 100:.2f}%\")"
   ]
  },
  {
   "cell_type": "markdown",
   "metadata": {},
   "source": [
    "NN with backprop"
   ]
  },
  {
   "cell_type": "code",
   "execution_count": 5,
   "metadata": {},
   "outputs": [
    {
     "name": "stdout",
     "output_type": "stream",
     "text": [
      "Backprop Epoch 0, Loss: 1.0986\n",
      "Backprop Epoch 100, Loss: 1.0969\n",
      "Backprop Epoch 200, Loss: 1.0969\n",
      "Backprop Epoch 300, Loss: 1.0968\n",
      "Backprop Epoch 400, Loss: 1.0968\n",
      "Backprop Epoch 500, Loss: 1.0966\n",
      "Backprop Epoch 600, Loss: 1.0962\n",
      "Backprop Epoch 700, Loss: 1.0918\n",
      "Backprop Epoch 800, Loss: 0.6308\n",
      "Backprop Epoch 900, Loss: 0.3749\n",
      "Test Accuracy (With Backpropagation): 98.21%\n"
     ]
    }
   ],
   "source": [
    "# With Backpropagation\n",
    "W1_bp, b1_bp, W2_bp, b2_bp, W3_bp, b3_bp, W4_bp, b4_bp = initialize_parameters(\n",
    "    input_size, hidden1_size, hidden2_size, hidden3_size, output_size\n",
    ")\n",
    "W1_bp, b1_bp, W2_bp, b2_bp, W3_bp, b3_bp, W4_bp, b4_bp = train(\n",
    "    X_train, y_train, W1_bp, b1_bp, W2_bp, b2_bp, W3_bp, b3_bp, W4_bp, b4_bp,\n",
    "    epochs=1000, learning_rate=0.08\n",
    ")\n",
    "\n",
    "# Test with backpropagation\n",
    "_, _, _, _, _, _, _, test_output_bp = forward_propagation(\n",
    "    X_test, W1_bp, b1_bp, W2_bp, b2_bp, W3_bp, b3_bp, W4_bp, b4_bp\n",
    ")\n",
    "test_predictions_bp = np.argmax(test_output_bp, axis=1)\n",
    "accuracy_bp = accuracy_score(y_test, test_predictions_bp)\n",
    "print(f\"Test Accuracy (With Backpropagation): {accuracy_bp * 100:.2f}%\")"
   ]
  }
 ],
 "metadata": {
  "kernelspec": {
   "display_name": "Python 3",
   "language": "python",
   "name": "python3"
  },
  "language_info": {
   "codemirror_mode": {
    "name": "ipython",
    "version": 3
   },
   "file_extension": ".py",
   "mimetype": "text/x-python",
   "name": "python",
   "nbconvert_exporter": "python",
   "pygments_lexer": "ipython3",
   "version": "3.9.20"
  }
 },
 "nbformat": 4,
 "nbformat_minor": 2
}
