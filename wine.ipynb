{
  "nbformat": 4,
  "nbformat_minor": 0,
  "metadata": {
    "colab": {
      "private_outputs": true,
      "provenance": []
    },
    "kernelspec": {
      "name": "python3",
      "display_name": "Python 3"
    },
    "language_info": {
      "name": "python"
    }
  },
  "cells": [
    {
      "cell_type": "markdown",
      "source": [
        "LOAD dataset and filter out  for wine\n",
        "\n"
      ],
      "metadata": {
        "id": "mDsqOK1aEJ_i"
      }
    },
    {
      "cell_type": "code",
      "source": [
        "import numpy as np\n",
        "import matplotlib.pyplot as plt\n",
        "from sklearn.datasets import load_wine\n",
        "from sklearn.model_selection import train_test_split\n",
        "from sklearn.preprocessing import StandardScaler, OneHotEncoder\n",
        "\n",
        "\n",
        "data_wine = load_wine()\n",
        "features, labels = data_wine.data, data_wine.target\n",
        "\n",
        "\n",
        "encoder = OneHotEncoder(sparse_output=False) # 0 and 1\n",
        "targets_encoded = encoder.fit_transform(labels.reshape(-1, 1))\n",
        "\n",
        "scaler = StandardScaler()\n",
        "features_scaled = scaler.fit_transform(features)"
      ],
      "metadata": {
        "id": "3QxCuQalEP9l"
      },
      "execution_count": null,
      "outputs": []
    },
    {
      "cell_type": "code",
      "source": [
        "\n",
        "\n",
        "\n",
        "X_train, X_test, Y_train, Y_test = train_test_split(features_scaled, targets_encoded, test_size=0.2, random_state=42)\n",
        "\n",
        "\n",
        "input_neurons = X_train.shape[1]\n",
        "hidden_neurons = 10\n",
        "output_neurons = Y_train.shape[1]\n",
        "\n",
        "\n",
        "np.random.seed(42)\n",
        "weights_1 = np.random.randn(input_neurons, hidden_neurons)\n",
        "bias_1 = np.zeros((1, hidden_neurons))\n",
        "weights_2 = np.random.randn(hidden_neurons, output_neurons)\n",
        "bias_2 = np.zeros((1, output_neurons))\n",
        "\n",
        "def activation_sigmoid(x):\n",
        "    return 1 / (1 + np.exp(-x))\n",
        "\n",
        "def activation_softmax(x):\n",
        "    exp_values = np.exp(x - np.max(x, axis=1, keepdims=True))\n",
        "    return exp_values / np.sum(exp_values, axis=1, keepdims=True)\n",
        "\n",
        "def loss_mse(actual, predicted):\n",
        "    return np.mean((actual - predicted) ** 2)\n",
        "\n",
        "def forward_pass(input_data, actual_output=None): # Add actual_output as an optional parameter\n",
        "    z_hidden = np.dot(input_data, weights_1) + bias_1\n",
        "    activation_hidden = activation_sigmoid(z_hidden)\n",
        "    z_output = np.dot(activation_hidden, weights_2) + bias_2\n",
        "    activation_output = activation_softmax(z_output)\n",
        "    loss = loss_mse(actual_output, activation_output) if actual_output is not None else None\n",
        "    return z_hidden, activation_hidden, z_output, activation_output, loss\n",
        "def backward_pass(input_data, actual_output, z_hidden, activation_hidden, activation_output, learning_rate=0.1):\n",
        "    global weights_1, bias_1, weights_2, bias_2\n",
        "    error_output = activation_output - actual_output\n",
        "    dW2 = np.dot(activation_hidden.T, error_output) / input_data.shape[0]\n",
        "    dB2 = np.sum(error_output, axis=0, keepdims=True) / input_data.shape[0]\n",
        "\n",
        "    error_hidden = np.dot(error_output, weights_2.T) * (activation_hidden * (1 - activation_hidden))\n",
        "    dW1 = np.dot(input_data.T, error_hidden) / input_data.shape[0]\n",
        "    dB1 = np.sum(error_hidden, axis=0, keepdims=True) / input_data.shape[0]\n",
        "\n",
        "     # i have updated the wegiht based onthe graiedent desceit\n",
        "    weights_1 -= learning_rate*dW1\n",
        "    bias_1 -= learning_rate * dB1\n",
        "    weights_2 -= learning_rate * dW2\n",
        "    bias_2 -= learning_rate * dB2\n",
        "\n",
        "\n",
        "epochs = 1000\n",
        "loss_history = []\n",
        "for epoch in range(epochs):\n",
        "    z_hidden, activation_hidden, z_output, activation_output, loss = forward_pass(X_train, actual_output=Y_train) # Pass Y_train\n",
        "    loss_history.append(loss)\n",
        "    backward_pass(X_train, Y_train, z_hidden, activation_hidden, activation_output, learning_rate=0.1)\n",
        "\n",
        "    if epoch % 100 == 0:\n",
        "        print(f\"Epoch {epoch}, MSE Loss: {loss:.4f}\")\n"
      ],
      "metadata": {
        "id": "QnYwLKGX5xA0"
      },
      "execution_count": null,
      "outputs": []
    },
    {
      "cell_type": "markdown",
      "source": [
        "Plot training loss"
      ],
      "metadata": {
        "id": "l-1P9bnhElmm"
      }
    },
    {
      "cell_type": "code",
      "source": [
        "\n",
        "plt.figure(figsize=(8, 5))\n",
        "plt.plot(loss_history, label='loss Curve', color='blue')\n",
        "plt.xlabel(\"epochs\")\n",
        "plt.ylabel(\"mse Loss\")\n",
        "plt.title(\"training loss over epochs\")\n",
        "plt.legend()\n",
        "plt.savefig(\"training_loss.png\")\n",
        "plt.show()\n",
        "\n",
        "\n",
        "_, _, _, predicted_output, _ = forward_pass(X_test)\n",
        "predicted_labels = np.argmax(predicted_output, axis=1)\n",
        "true_labels = np.argmax(Y_test, axis=1)\n",
        "accuracy = np.mean(predicted_labels == true_labels)\n",
        "print(f\"test Accuracy: {accuracy:.4f}\")\n",
        "\n",
        "\n",
        "\n"
      ],
      "metadata": {
        "id": "mvV0ZfmVEiuj"
      },
      "execution_count": null,
      "outputs": []
    },
    {
      "cell_type": "markdown",
      "source": [
        "visualize and compare\n"
      ],
      "metadata": {
        "id": "uqRWhd3XEqmf"
      }
    },
    {
      "cell_type": "code",
      "source": [
        "fig, axes = plt.subplots(1, 2, figsize=(12, 5))\n",
        "axes[0].imshow(weights_1, aspect='auto', cmap='coolwarm')\n",
        "axes[0].set_title(\"Forward Only - Initial Weights\")\n",
        "axes[1].imshow(weights_2, aspect='auto', cmap='coolwarm')\n",
        "axes[1].set_title(\"Forward + Backward - Updated Weights\")\n",
        "plt.savefig(\"comparison.png\")\n",
        "plt.show()"
      ],
      "metadata": {
        "id": "zYhumcE-EpvC"
      },
      "execution_count": null,
      "outputs": []
    },
    {
      "cell_type": "markdown",
      "source": [],
      "metadata": {
        "id": "jchqsjab5qWg"
      }
    },
    {
      "cell_type": "markdown",
      "source": [],
      "metadata": {
        "id": "3LPzqqc15216"
      }
    },
    {
      "cell_type": "code",
      "source": [],
      "metadata": {
        "id": "0WEc_1-R56ky"
      },
      "execution_count": null,
      "outputs": []
    },
    {
      "cell_type": "code",
      "execution_count": null,
      "metadata": {
        "id": "piyYLDxN4660"
      },
      "outputs": [],
      "source": []
    },
    {
      "cell_type": "code",
      "source": [],
      "metadata": {
        "id": "RaH1tsR95vzx"
      },
      "execution_count": null,
      "outputs": []
    },
    {
      "cell_type": "markdown",
      "source": [],
      "metadata": {
        "id": "pP7HkjGtBKag"
      }
    },
    {
      "cell_type": "code",
      "source": [],
      "metadata": {
        "id": "RMZAg81VBJpd"
      },
      "execution_count": null,
      "outputs": []
    },
    {
      "cell_type": "code",
      "source": [],
      "metadata": {
        "id": "yIYx53mo-_Dw"
      },
      "execution_count": null,
      "outputs": []
    },
    {
      "cell_type": "code",
      "source": [],
      "metadata": {
        "id": "hG3GiQbi5orw"
      },
      "execution_count": null,
      "outputs": []
    },
    {
      "cell_type": "code",
      "source": [],
      "metadata": {
        "id": "jWqsUMVp5pa5"
      },
      "execution_count": null,
      "outputs": []
    },
    {
      "source": [],
      "cell_type": "code",
      "metadata": {
        "id": "uc1cQfT95UeI"
      },
      "execution_count": null,
      "outputs": []
    },
    {
      "cell_type": "code",
      "source": [],
      "metadata": {
        "id": "HlX0GDsg4-dq"
      },
      "execution_count": null,
      "outputs": []
    }
  ]
}